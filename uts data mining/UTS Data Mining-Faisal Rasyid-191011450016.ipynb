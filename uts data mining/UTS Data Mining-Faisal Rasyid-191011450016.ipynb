{
 "cells": [
  {
   "cell_type": "code",
   "execution_count": 1,
   "id": "fb3695ed-f917-453a-ae7e-dd80df117e8c",
   "metadata": {},
   "outputs": [
    {
     "name": "stdout",
     "output_type": "stream",
     "text": [
      "   R&D Spend  Administration  Marketing Spend       State    Profit       Tax\n",
      "0   2.076351        0.554318         2.299248    New York  2.024298  2.460946\n",
      "1   2.011840        1.123258         2.040926  California  2.012472  2.361311\n",
      "2   1.797168       -0.850460         1.707769     Florida  1.993801  1.737043\n",
      "3   1.584537       -0.161817         1.478634    New York  1.788670  1.626770\n",
      "4   1.531431       -1.233706         1.320863     Florida  1.367903  1.188570\n"
     ]
    }
   ],
   "source": [
    "import pandas as pd\n",
    "from sklearn.preprocessing import StandardScaler\n",
    "from sklearn.impute import SimpleImputer\n",
    "from sklearn.preprocessing import OneHotEncoder\n",
    "from sklearn.compose import ColumnTransformer\n",
    "\n",
    "# Muat data\n",
    "data_startup = pd.read_csv('50_Startups.csv')\n",
    "\n",
    "# 1. Isi nilai yang hilang dengan rata-rata\n",
    "imputer = SimpleImputer(strategy='mean')\n",
    "data_startup[['R&D Spend', 'Administration', 'Marketing Spend', 'Profit']] = imputer.fit_transform(data_startup[['R&D Spend', 'Administration', 'Marketing Spend', 'Profit']])\n",
    "\n",
    "# 2. Lakukan one-hot encoding pada kolom 'State'\n",
    "ct = ColumnTransformer(transformers=[('encoder', OneHotEncoder(), [3])], remainder='passthrough')\n",
    "data_startup_encoded = pd.DataFrame(ct.fit_transform(data_startup))\n",
    "data_startup_encoded = data_startup_encoded.rename(columns={0: 'State_1', 1: 'State_2', 2: 'State_3'})\n",
    "\n",
    "# 3. Buat kolom baru 'Tax'\n",
    "data_startup['Tax'] = (data_startup['Profit'] + data_startup['Marketing Spend'] + data_startup['Administration']) * 0.05\n",
    "\n",
    "# 4. Standarisasi kolom-kolom tersebut\n",
    "scaler = StandardScaler()\n",
    "data_startup[['R&D Spend', 'Administration', 'Marketing Spend', 'Profit', 'Tax']] = scaler.fit_transform(data_startup[['R&D Spend', 'Administration', 'Marketing Spend', 'Profit', 'Tax']])\n",
    "\n",
    "# Tampilkan data yang telah diproses\n",
    "print(data_startup.head())"
   ]
  },
  {
   "cell_type": "code",
   "execution_count": null,
   "id": "73dee197-a611-4736-8f7d-06e4a5f232ec",
   "metadata": {},
   "outputs": [],
   "source": []
  }
 ],
 "metadata": {
  "kernelspec": {
   "display_name": "Python 3 (ipykernel)",
   "language": "python",
   "name": "python3"
  },
  "language_info": {
   "codemirror_mode": {
    "name": "ipython",
    "version": 3
   },
   "file_extension": ".py",
   "mimetype": "text/x-python",
   "name": "python",
   "nbconvert_exporter": "python",
   "pygments_lexer": "ipython3",
   "version": "3.12.2"
  }
 },
 "nbformat": 4,
 "nbformat_minor": 5
}
